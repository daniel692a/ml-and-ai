{
  "cells": [
    {
      "cell_type": "markdown",
      "metadata": {
        "id": "CpI5cmc5lTTW"
      },
      "source": [
        "# Práctica 6 - KNN\n",
        "## Escuela Superior de Computo\n",
        "\n",
        "> Phd. Consuelo Varinia Garcia Mendoza\n",
        "\n",
        "> Daniel Armas Ramirez"
      ]
    },
    {
      "cell_type": "code",
      "execution_count": 9,
      "metadata": {
        "id": "N75lOMljk6P1"
      },
      "outputs": [],
      "source": [
        "import numpy as np\n",
        "import pandas as pd\n",
        "import matplotlib.pyplot as plt\n",
        "\n",
        "from sklearn.model_selection import KFold, cross_val_score, train_test_split\n",
        "from sklearn.neighbors import KNeighborsClassifier\n",
        "from sklearn.metrics import accuracy_score, classification_report, ConfusionMatrixDisplay, confusion_matrix"
      ]
    },
    {
      "cell_type": "markdown",
      "metadata": {
        "id": "cTI1H95NnoXT"
      },
      "source": [
        "## Iris dataset\n",
        "\n",
        "> Lectura de la data"
      ]
    },
    {
      "cell_type": "code",
      "execution_count": 32,
      "metadata": {
        "colab": {
          "base_uri": "https://localhost:8080/",
          "height": 206
        },
        "id": "jrkbcG2GmIwV",
        "outputId": "f6c238bd-7841-479e-9f4d-0dccf0de83f9"
      },
      "outputs": [
        {
          "data": {
            "text/html": [
              "<div>\n",
              "<style scoped>\n",
              "    .dataframe tbody tr th:only-of-type {\n",
              "        vertical-align: middle;\n",
              "    }\n",
              "\n",
              "    .dataframe tbody tr th {\n",
              "        vertical-align: top;\n",
              "    }\n",
              "\n",
              "    .dataframe thead th {\n",
              "        text-align: right;\n",
              "    }\n",
              "</style>\n",
              "<table border=\"1\" class=\"dataframe\">\n",
              "  <thead>\n",
              "    <tr style=\"text-align: right;\">\n",
              "      <th></th>\n",
              "      <th>sepal_length</th>\n",
              "      <th>sepal_width</th>\n",
              "      <th>petal_length</th>\n",
              "      <th>petal_width</th>\n",
              "      <th>species</th>\n",
              "    </tr>\n",
              "  </thead>\n",
              "  <tbody>\n",
              "    <tr>\n",
              "      <th>0</th>\n",
              "      <td>5.1</td>\n",
              "      <td>3.5</td>\n",
              "      <td>1.4</td>\n",
              "      <td>0.2</td>\n",
              "      <td>Iris-setosa</td>\n",
              "    </tr>\n",
              "    <tr>\n",
              "      <th>1</th>\n",
              "      <td>4.9</td>\n",
              "      <td>3.0</td>\n",
              "      <td>1.4</td>\n",
              "      <td>0.2</td>\n",
              "      <td>Iris-setosa</td>\n",
              "    </tr>\n",
              "    <tr>\n",
              "      <th>2</th>\n",
              "      <td>4.7</td>\n",
              "      <td>3.2</td>\n",
              "      <td>1.3</td>\n",
              "      <td>0.2</td>\n",
              "      <td>Iris-setosa</td>\n",
              "    </tr>\n",
              "    <tr>\n",
              "      <th>3</th>\n",
              "      <td>4.6</td>\n",
              "      <td>3.1</td>\n",
              "      <td>1.5</td>\n",
              "      <td>0.2</td>\n",
              "      <td>Iris-setosa</td>\n",
              "    </tr>\n",
              "    <tr>\n",
              "      <th>4</th>\n",
              "      <td>5.0</td>\n",
              "      <td>3.6</td>\n",
              "      <td>1.4</td>\n",
              "      <td>0.2</td>\n",
              "      <td>Iris-setosa</td>\n",
              "    </tr>\n",
              "  </tbody>\n",
              "</table>\n",
              "</div>"
            ],
            "text/plain": [
              "   sepal_length  sepal_width  petal_length  petal_width      species\n",
              "0           5.1          3.5           1.4          0.2  Iris-setosa\n",
              "1           4.9          3.0           1.4          0.2  Iris-setosa\n",
              "2           4.7          3.2           1.3          0.2  Iris-setosa\n",
              "3           4.6          3.1           1.5          0.2  Iris-setosa\n",
              "4           5.0          3.6           1.4          0.2  Iris-setosa"
            ]
          },
          "execution_count": 32,
          "metadata": {},
          "output_type": "execute_result"
        }
      ],
      "source": [
        "df = pd.read_csv('./iris.csv')\n",
        "df.head()"
      ]
    },
    {
      "cell_type": "code",
      "execution_count": 33,
      "metadata": {
        "id": "RlCO0QMDnt1h"
      },
      "outputs": [],
      "source": [
        "X = df[['sepal_length', 'sepal_width', 'petal_length', 'petal_width']]\n",
        "y = df['species']\n",
        "\n",
        "X_train, X_test, y_train, y_test = train_test_split(X, y, test_size=0.3, random_state=0)"
      ]
    },
    {
      "cell_type": "markdown",
      "metadata": {
        "id": "8ZfkLzISqJkG"
      },
      "source": [
        "### Modelo"
      ]
    },
    {
      "cell_type": "code",
      "execution_count": 34,
      "metadata": {
        "colab": {
          "base_uri": "https://localhost:8080/"
        },
        "id": "bygvDoQ3qKjp",
        "outputId": "510dedce-aceb-4a24-ac04-0cdcbb2142f8"
      },
      "outputs": [
        {
          "data": {
            "text/plain": [
              "array([0.85714286, 1.        , 0.94285714])"
            ]
          },
          "execution_count": 34,
          "metadata": {},
          "output_type": "execute_result"
        }
      ],
      "source": [
        "kfold = KFold(n_splits=3)\n",
        "model = KNeighborsClassifier(n_neighbors=1)\n",
        "results_1NN_iris = cross_val_score(model, X_train, y_train, cv=kfold, scoring='accuracy')\n",
        "mean_score_1NN_iris = results_1NN_iris.mean()\n",
        "\n",
        "results_1NN_iris"
      ]
    },
    {
      "cell_type": "code",
      "execution_count": 35,
      "metadata": {
        "colab": {
          "base_uri": "https://localhost:8080/"
        },
        "id": "JC3rfXDt7zgL",
        "outputId": "42b99c4c-f6db-4f8f-97ce-da0c6e19f6e9"
      },
      "outputs": [
        {
          "data": {
            "text/plain": [
              "0.9333333333333332"
            ]
          },
          "execution_count": 35,
          "metadata": {},
          "output_type": "execute_result"
        }
      ],
      "source": [
        "mean_score_1NN_iris"
      ]
    },
    {
      "cell_type": "code",
      "execution_count": 36,
      "metadata": {
        "colab": {
          "base_uri": "https://localhost:8080/"
        },
        "id": "fh0NQXENI9IR",
        "outputId": "480302e6-ec70-46c7-eba9-026f1662ecfb"
      },
      "outputs": [
        {
          "data": {
            "text/plain": [
              "array([0.91428571, 1.        , 0.91428571])"
            ]
          },
          "execution_count": 36,
          "metadata": {},
          "output_type": "execute_result"
        }
      ],
      "source": [
        "kfold = KFold(n_splits=3)\n",
        "model = KNeighborsClassifier(n_neighbors=10, weights='uniform')\n",
        "results_10NN_iris = cross_val_score(model, X_train, y_train, cv=kfold, scoring='accuracy')\n",
        "mean_score_10NN_iris = results_10NN_iris.mean()\n",
        "\n",
        "results_10NN_iris"
      ]
    },
    {
      "cell_type": "code",
      "execution_count": 37,
      "metadata": {
        "colab": {
          "base_uri": "https://localhost:8080/"
        },
        "id": "1jrTr6hdJOR6",
        "outputId": "493ccee6-4f55-46bf-e9f6-9cb39d87650e"
      },
      "outputs": [
        {
          "data": {
            "text/plain": [
              "0.9428571428571427"
            ]
          },
          "execution_count": 37,
          "metadata": {},
          "output_type": "execute_result"
        }
      ],
      "source": [
        "mean_score_10NN_iris"
      ]
    },
    {
      "cell_type": "code",
      "execution_count": 38,
      "metadata": {
        "colab": {
          "base_uri": "https://localhost:8080/"
        },
        "id": "0ZaEQC27JRJF",
        "outputId": "3c233088-8f19-4856-8292-bff27604d61a"
      },
      "outputs": [
        {
          "data": {
            "text/plain": [
              "array([0.91428571, 1.        , 0.91428571])"
            ]
          },
          "execution_count": 38,
          "metadata": {},
          "output_type": "execute_result"
        }
      ],
      "source": [
        "kfold = KFold(n_splits=3)\n",
        "model = KNeighborsClassifier(n_neighbors=10, weights='distance')\n",
        "results_10NNd_iris = cross_val_score(model, X_train, y_train, cv=kfold, scoring='accuracy')\n",
        "mean_score_10NNd_iris = results_10NNd_iris.mean()\n",
        "\n",
        "results_10NNd_iris"
      ]
    },
    {
      "cell_type": "code",
      "execution_count": 17,
      "metadata": {
        "colab": {
          "base_uri": "https://localhost:8080/"
        },
        "id": "bvy1Y3UEJm0b",
        "outputId": "232dfac8-3930-4e8a-d881-588da77d5771"
      },
      "outputs": [
        {
          "data": {
            "text/plain": [
              "0.9428571428571427"
            ]
          },
          "execution_count": 17,
          "metadata": {},
          "output_type": "execute_result"
        }
      ],
      "source": [
        "mean_score_10NNd_iris"
      ]
    },
    {
      "cell_type": "code",
      "execution_count": 39,
      "metadata": {
        "colab": {
          "base_uri": "https://localhost:8080/",
          "height": 472
        },
        "id": "0So2vX9472aX",
        "outputId": "e6126cd2-832c-4b3f-fbb6-f92a9c1b5479"
      },
      "outputs": [
        {
          "data": {
            "image/png": "[encoded data removed]",
            "text/plain": [
              "<Figure size 640x480 with 2 Axes>"
            ]
          },
          "metadata": {},
          "output_type": "display_data"
        }
      ],
      "source": [
        "model = KNeighborsClassifier(n_neighbors=1)\n",
        "model.fit(X_train, y_train)\n",
        "predictions = model.predict(X_test)\n",
        "cm = confusion_matrix(y_test, predictions, labels=model.classes_)\n",
        "disp = ConfusionMatrixDisplay(confusion_matrix=cm, display_labels=model.classes_)\n",
        "disp.plot()\n",
        "plt.title('1-KNN')\n",
        "plt.show()"
      ]
    },
    {
      "cell_type": "code",
      "execution_count": 41,
      "metadata": {},
      "outputs": [
        {
          "name": "stdout",
          "output_type": "stream",
          "text": [
            "                 precision    recall  f1-score   support\n",
            "\n",
            "    Iris-setosa       1.00      1.00      1.00        16\n",
            "Iris-versicolor       1.00      0.94      0.97        18\n",
            " Iris-virginica       0.92      1.00      0.96        11\n",
            "\n",
            "       accuracy                           0.98        45\n",
            "      macro avg       0.97      0.98      0.98        45\n",
            "   weighted avg       0.98      0.98      0.98        45\n",
            "\n"
          ]
        }
      ],
      "source": [
        "metrics = classification_report(y_test, predictions)\n",
        "print(metrics)"
      ]
    },
    {
      "cell_type": "markdown",
      "metadata": {
        "id": "bHlnA12aLHg2"
      },
      "source": [
        "## Emails\n",
        "\n",
        "> Lectura de data"
      ]
    },
    {
      "cell_type": "code",
      "execution_count": 42,
      "metadata": {
        "colab": {
          "base_uri": "https://localhost:8080/",
          "height": 359
        },
        "id": "OVkd4yNn9Gsx",
        "outputId": "f4335dd3-68f4-42e6-ab91-5307f9221627"
      },
      "outputs": [
        {
          "data": {
            "text/html": [
              "<div>\n",
              "<style scoped>\n",
              "    .dataframe tbody tr th:only-of-type {\n",
              "        vertical-align: middle;\n",
              "    }\n",
              "\n",
              "    .dataframe tbody tr th {\n",
              "        vertical-align: top;\n",
              "    }\n",
              "\n",
              "    .dataframe thead th {\n",
              "        text-align: right;\n",
              "    }\n",
              "</style>\n",
              "<table border=\"1\" class=\"dataframe\">\n",
              "  <thead>\n",
              "    <tr style=\"text-align: right;\">\n",
              "      <th></th>\n",
              "      <th>Email No.</th>\n",
              "      <th>the</th>\n",
              "      <th>to</th>\n",
              "      <th>ect</th>\n",
              "      <th>and</th>\n",
              "      <th>for</th>\n",
              "      <th>of</th>\n",
              "      <th>a</th>\n",
              "      <th>you</th>\n",
              "      <th>hou</th>\n",
              "      <th>...</th>\n",
              "      <th>connevey</th>\n",
              "      <th>jay</th>\n",
              "      <th>valued</th>\n",
              "      <th>lay</th>\n",
              "      <th>infrastructure</th>\n",
              "      <th>military</th>\n",
              "      <th>allowing</th>\n",
              "      <th>ff</th>\n",
              "      <th>dry</th>\n",
              "      <th>Prediction</th>\n",
              "    </tr>\n",
              "  </thead>\n",
              "  <tbody>\n",
              "    <tr>\n",
              "      <th>0</th>\n",
              "      <td>Email 1</td>\n",
              "      <td>0</td>\n",
              "      <td>0</td>\n",
              "      <td>1</td>\n",
              "      <td>0</td>\n",
              "      <td>0</td>\n",
              "      <td>0</td>\n",
              "      <td>2</td>\n",
              "      <td>0</td>\n",
              "      <td>0</td>\n",
              "      <td>...</td>\n",
              "      <td>0</td>\n",
              "      <td>0</td>\n",
              "      <td>0</td>\n",
              "      <td>0</td>\n",
              "      <td>0</td>\n",
              "      <td>0</td>\n",
              "      <td>0</td>\n",
              "      <td>0</td>\n",
              "      <td>0</td>\n",
              "      <td>0</td>\n",
              "    </tr>\n",
              "    <tr>\n",
              "      <th>1</th>\n",
              "      <td>Email 2</td>\n",
              "      <td>8</td>\n",
              "      <td>13</td>\n",
              "      <td>24</td>\n",
              "      <td>6</td>\n",
              "      <td>6</td>\n",
              "      <td>2</td>\n",
              "      <td>102</td>\n",
              "      <td>1</td>\n",
              "      <td>27</td>\n",
              "      <td>...</td>\n",
              "      <td>0</td>\n",
              "      <td>0</td>\n",
              "      <td>0</td>\n",
              "      <td>0</td>\n",
              "      <td>0</td>\n",
              "      <td>0</td>\n",
              "      <td>0</td>\n",
              "      <td>1</td>\n",
              "      <td>0</td>\n",
              "      <td>0</td>\n",
              "    </tr>\n",
              "    <tr>\n",
              "      <th>2</th>\n",
              "      <td>Email 3</td>\n",
              "      <td>0</td>\n",
              "      <td>0</td>\n",
              "      <td>1</td>\n",
              "      <td>0</td>\n",
              "      <td>0</td>\n",
              "      <td>0</td>\n",
              "      <td>8</td>\n",
              "      <td>0</td>\n",
              "      <td>0</td>\n",
              "      <td>...</td>\n",
              "      <td>0</td>\n",
              "      <td>0</td>\n",
              "      <td>0</td>\n",
              "      <td>0</td>\n",
              "      <td>0</td>\n",
              "      <td>0</td>\n",
              "      <td>0</td>\n",
              "      <td>0</td>\n",
              "      <td>0</td>\n",
              "      <td>0</td>\n",
              "    </tr>\n",
              "    <tr>\n",
              "      <th>3</th>\n",
              "      <td>Email 4</td>\n",
              "      <td>0</td>\n",
              "      <td>5</td>\n",
              "      <td>22</td>\n",
              "      <td>0</td>\n",
              "      <td>5</td>\n",
              "      <td>1</td>\n",
              "      <td>51</td>\n",
              "      <td>2</td>\n",
              "      <td>10</td>\n",
              "      <td>...</td>\n",
              "      <td>0</td>\n",
              "      <td>0</td>\n",
              "      <td>0</td>\n",
              "      <td>0</td>\n",
              "      <td>0</td>\n",
              "      <td>0</td>\n",
              "      <td>0</td>\n",
              "      <td>0</td>\n",
              "      <td>0</td>\n",
              "      <td>0</td>\n",
              "    </tr>\n",
              "    <tr>\n",
              "      <th>4</th>\n",
              "      <td>Email 5</td>\n",
              "      <td>7</td>\n",
              "      <td>6</td>\n",
              "      <td>17</td>\n",
              "      <td>1</td>\n",
              "      <td>5</td>\n",
              "      <td>2</td>\n",
              "      <td>57</td>\n",
              "      <td>0</td>\n",
              "      <td>9</td>\n",
              "      <td>...</td>\n",
              "      <td>0</td>\n",
              "      <td>0</td>\n",
              "      <td>0</td>\n",
              "      <td>0</td>\n",
              "      <td>0</td>\n",
              "      <td>0</td>\n",
              "      <td>0</td>\n",
              "      <td>1</td>\n",
              "      <td>0</td>\n",
              "      <td>0</td>\n",
              "    </tr>\n",
              "  </tbody>\n",
              "</table>\n",
              "<p>5 rows × 3002 columns</p>\n",
              "</div>"
            ],
            "text/plain": [
              "  Email No.  the  to  ect  and  for  of    a  you  hou  ...  connevey  jay  \\\n",
              "0   Email 1    0   0    1    0    0   0    2    0    0  ...         0    0   \n",
              "1   Email 2    8  13   24    6    6   2  102    1   27  ...         0    0   \n",
              "2   Email 3    0   0    1    0    0   0    8    0    0  ...         0    0   \n",
              "3   Email 4    0   5   22    0    5   1   51    2   10  ...         0    0   \n",
              "4   Email 5    7   6   17    1    5   2   57    0    9  ...         0    0   \n",
              "\n",
              "   valued  lay  infrastructure  military  allowing  ff  dry  Prediction  \n",
              "0       0    0               0         0         0   0    0           0  \n",
              "1       0    0               0         0         0   1    0           0  \n",
              "2       0    0               0         0         0   0    0           0  \n",
              "3       0    0               0         0         0   0    0           0  \n",
              "4       0    0               0         0         0   1    0           0  \n",
              "\n",
              "[5 rows x 3002 columns]"
            ]
          },
          "execution_count": 42,
          "metadata": {},
          "output_type": "execute_result"
        }
      ],
      "source": [
        "df2 = pd.read_csv('./emails.csv')\n",
        "df2.head()"
      ]
    },
    {
      "cell_type": "code",
      "execution_count": 43,
      "metadata": {
        "id": "oSzhlstALPe9"
      },
      "outputs": [],
      "source": [
        "X = df2.iloc[:, 1: -1]\n",
        "y = df2['Prediction']\n",
        "\n",
        "X_train, X_test, y_train, y_test = train_test_split(X, y, test_size=0.3, random_state=0)"
      ]
    },
    {
      "cell_type": "markdown",
      "metadata": {
        "id": "CXvnwZWxLtAk"
      },
      "source": [
        "> Modelo"
      ]
    },
    {
      "cell_type": "code",
      "execution_count": 44,
      "metadata": {
        "colab": {
          "base_uri": "https://localhost:8080/"
        },
        "id": "vlzrLQDWLuT-",
        "outputId": "d2af9eed-6751-406f-b33b-8039755ce9b1"
      },
      "outputs": [
        {
          "data": {
            "text/plain": [
              "array([0.85666943, 0.83761392, 0.84825871])"
            ]
          },
          "execution_count": 44,
          "metadata": {},
          "output_type": "execute_result"
        }
      ],
      "source": [
        "kfold = KFold(n_splits=3)\n",
        "model = KNeighborsClassifier(n_neighbors=1)\n",
        "results_1NN_emails = cross_val_score(model, X_train, y_train, cv=kfold, scoring='accuracy')\n",
        "mean_score_1NN_emails = results_1NN_emails.mean()\n",
        "\n",
        "results_1NN_emails"
      ]
    },
    {
      "cell_type": "code",
      "execution_count": 45,
      "metadata": {
        "colab": {
          "base_uri": "https://localhost:8080/"
        },
        "id": "tEd5iJRTM6M6",
        "outputId": "1c4ea99d-fb32-4371-bce8-6e237e4ed631"
      },
      "outputs": [
        {
          "data": {
            "text/plain": [
              "0.8475140178697784"
            ]
          },
          "execution_count": 45,
          "metadata": {},
          "output_type": "execute_result"
        }
      ],
      "source": [
        "mean_score_1NN_emails"
      ]
    },
    {
      "cell_type": "code",
      "execution_count": 46,
      "metadata": {
        "colab": {
          "base_uri": "https://localhost:8080/"
        },
        "id": "az202F7uM-yN",
        "outputId": "fc566ab0-3204-437c-adb3-c74e41020260"
      },
      "outputs": [
        {
          "data": {
            "text/plain": [
              "array([0.87572494, 0.84755592, 0.86069652])"
            ]
          },
          "execution_count": 46,
          "metadata": {},
          "output_type": "execute_result"
        }
      ],
      "source": [
        "kfold = KFold(n_splits=3)\n",
        "model = KNeighborsClassifier(n_neighbors=10, weights='uniform')\n",
        "results_10NN_emails = cross_val_score(model, X_train, y_train, cv=kfold, scoring='accuracy')\n",
        "mean_score_10NN_emails = results_10NN_emails.mean()\n",
        "\n",
        "results_10NN_emails"
      ]
    },
    {
      "cell_type": "code",
      "execution_count": 47,
      "metadata": {
        "colab": {
          "base_uri": "https://localhost:8080/"
        },
        "id": "K3xZcX45N9YC",
        "outputId": "0f69d401-3625-4b2c-b243-c3248d4022b6"
      },
      "outputs": [
        {
          "data": {
            "text/plain": [
              "0.8613257930177888"
            ]
          },
          "execution_count": 47,
          "metadata": {},
          "output_type": "execute_result"
        }
      ],
      "source": [
        "mean_score_10NN_emails"
      ]
    },
    {
      "cell_type": "code",
      "execution_count": 48,
      "metadata": {
        "colab": {
          "base_uri": "https://localhost:8080/"
        },
        "id": "mOsEL__rOGb8",
        "outputId": "c37771b6-ed85-4a32-d233-196c869260e7"
      },
      "outputs": [
        {
          "data": {
            "text/plain": [
              "array([0.87655344, 0.84921292, 0.86981758])"
            ]
          },
          "execution_count": 48,
          "metadata": {},
          "output_type": "execute_result"
        }
      ],
      "source": [
        "kfold = KFold(n_splits=3)\n",
        "model = KNeighborsClassifier(n_neighbors=10, weights='distance')\n",
        "results_10NNd_emails = cross_val_score(model, X_train, y_train, cv=kfold, scoring='accuracy')\n",
        "mean_score_10NNd_emails = results_10NNd_emails.mean()\n",
        "\n",
        "results_10NNd_emails"
      ]
    },
    {
      "cell_type": "code",
      "execution_count": 26,
      "metadata": {
        "colab": {
          "base_uri": "https://localhost:8080/"
        },
        "id": "4Fetk4ftOPJO",
        "outputId": "95faf3d3-b8df-4934-bbe0-c4ff81afcef6"
      },
      "outputs": [
        {
          "data": {
            "text/plain": [
              "0.8651946472186612"
            ]
          },
          "execution_count": 26,
          "metadata": {},
          "output_type": "execute_result"
        }
      ],
      "source": [
        "mean_score_10NNd_emails"
      ]
    },
    {
      "cell_type": "code",
      "execution_count": 49,
      "metadata": {},
      "outputs": [
        {
          "data": {
            "image/png": "[encoded data removed]",
            "text/plain": [
              "<Figure size 640x480 with 2 Axes>"
            ]
          },
          "metadata": {},
          "output_type": "display_data"
        }
      ],
      "source": [
        "model = KNeighborsClassifier(n_neighbors=1)\n",
        "model.fit(X_train, y_train)\n",
        "predictions = model.predict(X_test)\n",
        "cm = confusion_matrix(y_test, predictions, labels=model.classes_)\n",
        "disp = ConfusionMatrixDisplay(confusion_matrix=cm, display_labels=model.classes_)\n",
        "disp.plot()\n",
        "plt.title('1-KNN')\n",
        "plt.show()"
      ]
    },
    {
      "cell_type": "code",
      "execution_count": 50,
      "metadata": {},
      "outputs": [
        {
          "name": "stdout",
          "output_type": "stream",
          "text": [
            "              precision    recall  f1-score   support\n",
            "\n",
            "           0       0.94      0.86      0.90      1111\n",
            "           1       0.71      0.85      0.78       441\n",
            "\n",
            "    accuracy                           0.86      1552\n",
            "   macro avg       0.83      0.86      0.84      1552\n",
            "weighted avg       0.87      0.86      0.86      1552\n",
            "\n"
          ]
        }
      ],
      "source": [
        "metrics = classification_report(y_test, predictions)\n",
        "print(metrics)"
      ]
    },
    {
      "cell_type": "markdown",
      "metadata": {
        "id": "CuyNYdF1Og9u"
      },
      "source": [
        "# Resultados"
      ]
    },
    {
      "cell_type": "code",
      "execution_count": 27,
      "metadata": {
        "id": "8SvmU9fSOTqo"
      },
      "outputs": [],
      "source": [
        "accuracies = [val for val in results_1NN_iris]\n",
        "accuracies.append(mean_score_1NN_iris)\n",
        "\n",
        "for val in results_10NN_iris:\n",
        "    accuracies.append(val)\n",
        "\n",
        "accuracies.append(mean_score_10NN_iris)\n",
        "\n",
        "for val in results_10NNd_iris:\n",
        "    accuracies.append(val)\n",
        "\n",
        "accuracies.append(mean_score_10NNd_iris)\n",
        "\n",
        "for val in results_1NN_emails:\n",
        "    accuracies.append(val)\n",
        "\n",
        "accuracies.append(mean_score_1NN_emails)\n",
        "\n",
        "for val in results_10NN_emails:\n",
        "    accuracies.append(val)\n",
        "\n",
        "accuracies.append(mean_score_10NN_emails)\n",
        "\n",
        "for val in results_10NNd_emails:\n",
        "    accuracies.append(val)\n",
        "\n",
        "accuracies.append(mean_score_10NNd_emails)"
      ]
    },
    {
      "cell_type": "code",
      "execution_count": 28,
      "metadata": {
        "colab": {
          "base_uri": "https://localhost:8080/",
          "height": 833
        },
        "id": "bCHGp1FPYNkn",
        "outputId": "389f0e56-dd5b-4152-f031-275015f30727"
      },
      "outputs": [
        {
          "data": {
            "text/html": [
              "<div>\n",
              "<style scoped>\n",
              "    .dataframe tbody tr th:only-of-type {\n",
              "        vertical-align: middle;\n",
              "    }\n",
              "\n",
              "    .dataframe tbody tr th {\n",
              "        vertical-align: top;\n",
              "    }\n",
              "\n",
              "    .dataframe thead th {\n",
              "        text-align: right;\n",
              "    }\n",
              "</style>\n",
              "<table border=\"1\" class=\"dataframe\">\n",
              "  <thead>\n",
              "    <tr style=\"text-align: right;\">\n",
              "      <th></th>\n",
              "      <th></th>\n",
              "      <th></th>\n",
              "      <th></th>\n",
              "      <th>Accuracy</th>\n",
              "    </tr>\n",
              "    <tr>\n",
              "      <th>Dataset</th>\n",
              "      <th>Vecinos</th>\n",
              "      <th>Pesos</th>\n",
              "      <th>Pliegue</th>\n",
              "      <th></th>\n",
              "    </tr>\n",
              "  </thead>\n",
              "  <tbody>\n",
              "    <tr>\n",
              "      <th rowspan=\"12\" valign=\"top\">iris.csv</th>\n",
              "      <th rowspan=\"4\" valign=\"top\">1</th>\n",
              "      <th rowspan=\"4\" valign=\"top\">-----</th>\n",
              "      <th>1</th>\n",
              "      <td>0.857143</td>\n",
              "    </tr>\n",
              "    <tr>\n",
              "      <th>2</th>\n",
              "      <td>1.000000</td>\n",
              "    </tr>\n",
              "    <tr>\n",
              "      <th>3</th>\n",
              "      <td>0.942857</td>\n",
              "    </tr>\n",
              "    <tr>\n",
              "      <th>Promedio</th>\n",
              "      <td>0.933333</td>\n",
              "    </tr>\n",
              "    <tr>\n",
              "      <th rowspan=\"8\" valign=\"top\">10</th>\n",
              "      <th rowspan=\"4\" valign=\"top\">uniforme</th>\n",
              "      <th>1</th>\n",
              "      <td>0.914286</td>\n",
              "    </tr>\n",
              "    <tr>\n",
              "      <th>2</th>\n",
              "      <td>1.000000</td>\n",
              "    </tr>\n",
              "    <tr>\n",
              "      <th>3</th>\n",
              "      <td>0.914286</td>\n",
              "    </tr>\n",
              "    <tr>\n",
              "      <th>Promedio</th>\n",
              "      <td>0.942857</td>\n",
              "    </tr>\n",
              "    <tr>\n",
              "      <th rowspan=\"4\" valign=\"top\">distancia</th>\n",
              "      <th>1</th>\n",
              "      <td>0.914286</td>\n",
              "    </tr>\n",
              "    <tr>\n",
              "      <th>2</th>\n",
              "      <td>1.000000</td>\n",
              "    </tr>\n",
              "    <tr>\n",
              "      <th>3</th>\n",
              "      <td>0.914286</td>\n",
              "    </tr>\n",
              "    <tr>\n",
              "      <th>Promedio</th>\n",
              "      <td>0.942857</td>\n",
              "    </tr>\n",
              "    <tr>\n",
              "      <th rowspan=\"12\" valign=\"top\">emails.csv</th>\n",
              "      <th rowspan=\"4\" valign=\"top\">1</th>\n",
              "      <th rowspan=\"4\" valign=\"top\">-----</th>\n",
              "      <th>1</th>\n",
              "      <td>0.856669</td>\n",
              "    </tr>\n",
              "    <tr>\n",
              "      <th>2</th>\n",
              "      <td>0.837614</td>\n",
              "    </tr>\n",
              "    <tr>\n",
              "      <th>3</th>\n",
              "      <td>0.848259</td>\n",
              "    </tr>\n",
              "    <tr>\n",
              "      <th>Promedio</th>\n",
              "      <td>0.847514</td>\n",
              "    </tr>\n",
              "    <tr>\n",
              "      <th rowspan=\"8\" valign=\"top\">10</th>\n",
              "      <th rowspan=\"4\" valign=\"top\">uniforme</th>\n",
              "      <th>1</th>\n",
              "      <td>0.875725</td>\n",
              "    </tr>\n",
              "    <tr>\n",
              "      <th>2</th>\n",
              "      <td>0.847556</td>\n",
              "    </tr>\n",
              "    <tr>\n",
              "      <th>3</th>\n",
              "      <td>0.860697</td>\n",
              "    </tr>\n",
              "    <tr>\n",
              "      <th>Promedio</th>\n",
              "      <td>0.861326</td>\n",
              "    </tr>\n",
              "    <tr>\n",
              "      <th rowspan=\"4\" valign=\"top\">distancia</th>\n",
              "      <th>1</th>\n",
              "      <td>0.876553</td>\n",
              "    </tr>\n",
              "    <tr>\n",
              "      <th>2</th>\n",
              "      <td>0.849213</td>\n",
              "    </tr>\n",
              "    <tr>\n",
              "      <th>3</th>\n",
              "      <td>0.869818</td>\n",
              "    </tr>\n",
              "    <tr>\n",
              "      <th>Promedio</th>\n",
              "      <td>0.865195</td>\n",
              "    </tr>\n",
              "  </tbody>\n",
              "</table>\n",
              "</div>"
            ],
            "text/plain": [
              "                                       Accuracy\n",
              "Dataset    Vecinos Pesos     Pliegue           \n",
              "iris.csv   1       -----     1         0.857143\n",
              "                             2         1.000000\n",
              "                             3         0.942857\n",
              "                             Promedio  0.933333\n",
              "           10      uniforme  1         0.914286\n",
              "                             2         1.000000\n",
              "                             3         0.914286\n",
              "                             Promedio  0.942857\n",
              "                   distancia 1         0.914286\n",
              "                             2         1.000000\n",
              "                             3         0.914286\n",
              "                             Promedio  0.942857\n",
              "emails.csv 1       -----     1         0.856669\n",
              "                             2         0.837614\n",
              "                             3         0.848259\n",
              "                             Promedio  0.847514\n",
              "           10      uniforme  1         0.875725\n",
              "                             2         0.847556\n",
              "                             3         0.860697\n",
              "                             Promedio  0.861326\n",
              "                   distancia 1         0.876553\n",
              "                             2         0.849213\n",
              "                             3         0.869818\n",
              "                             Promedio  0.865195"
            ]
          },
          "execution_count": 28,
          "metadata": {},
          "output_type": "execute_result"
        }
      ],
      "source": [
        "results_table = [[\n",
        "            'iris.csv', 'iris.csv', 'iris.csv',\n",
        "            'iris.csv', 'iris.csv', 'iris.csv',\n",
        "            'iris.csv', 'iris.csv', 'iris.csv',\n",
        "            'iris.csv', 'iris.csv', 'iris.csv',\n",
        "            'emails.csv', 'emails.csv', 'emails.csv',\n",
        "            'emails.csv', 'emails.csv', 'emails.csv',\n",
        "            'emails.csv', 'emails.csv', 'emails.csv',\n",
        "            'emails.csv', 'emails.csv', 'emails.csv',\n",
        "           ],\n",
        "            [\n",
        "                1, 1, 1, 1,\n",
        "                10, 10, 10, 10,\n",
        "                10, 10, 10, 10,\n",
        "                1, 1, 1, 1,\n",
        "                10, 10, 10, 10,\n",
        "                10, 10, 10, 10,\n",
        "            ],\n",
        "            [\n",
        "                '-----', '-----', '-----', '-----',\n",
        "                'uniforme', 'uniforme', 'uniforme', 'uniforme',\n",
        "                'distancia', 'distancia', 'distancia', 'distancia',\n",
        "                '-----', '-----', '-----', '-----',\n",
        "                'uniforme', 'uniforme', 'uniforme', 'uniforme',\n",
        "                'distancia', 'distancia', 'distancia', 'distancia',\n",
        "            ],\n",
        "            [\n",
        "                '1', '2', '3', 'Promedio',\n",
        "                '1', '2', '3', 'Promedio',\n",
        "                '1', '2', '3', 'Promedio',\n",
        "                '1', '2', '3', 'Promedio',\n",
        "                '1', '2', '3', 'Promedio',\n",
        "                '1', '2', '3', 'Promedio',\n",
        "            ]\n",
        "]\n",
        "\n",
        "index = pd.MultiIndex.from_arrays(results_table, names = ('Dataset', 'Vecinos', 'Pesos', 'Pliegue'))\n",
        "report = pd.DataFrame({'Accuracy': accuracies}, index=index)\n",
        "report"
      ]
    },
    {
      "cell_type": "code",
      "execution_count": 30,
      "metadata": {
        "id": "QUoAOMmkYO6Y"
      },
      "outputs": [
        {
          "data": {
            "text/html": [
              "<div>\n",
              "<style scoped>\n",
              "    .dataframe tbody tr th:only-of-type {\n",
              "        vertical-align: middle;\n",
              "    }\n",
              "\n",
              "    .dataframe tbody tr th {\n",
              "        vertical-align: top;\n",
              "    }\n",
              "\n",
              "    .dataframe thead th {\n",
              "        text-align: right;\n",
              "    }\n",
              "</style>\n",
              "<table border=\"1\" class=\"dataframe\">\n",
              "  <thead>\n",
              "    <tr style=\"text-align: right;\">\n",
              "      <th></th>\n",
              "      <th></th>\n",
              "      <th></th>\n",
              "      <th></th>\n",
              "      <th></th>\n",
              "      <th>Accuracy</th>\n",
              "    </tr>\n",
              "    <tr>\n",
              "      <th>Dataset</th>\n",
              "      <th>Clasificador</th>\n",
              "      <th>Vecinos</th>\n",
              "      <th>Pesos</th>\n",
              "      <th>Distribución</th>\n",
              "      <th></th>\n",
              "    </tr>\n",
              "  </thead>\n",
              "  <tbody>\n",
              "    <tr>\n",
              "      <th rowspan=\"2\" valign=\"top\">iris.csv</th>\n",
              "      <th>Naïve Bayes</th>\n",
              "      <th>-----</th>\n",
              "      <th>-----</th>\n",
              "      <th>Normal</th>\n",
              "      <td>1.000000</td>\n",
              "    </tr>\n",
              "    <tr>\n",
              "      <th>K-NN</th>\n",
              "      <th>10</th>\n",
              "      <th>Distancia</th>\n",
              "      <th>--------</th>\n",
              "      <td>0.942857</td>\n",
              "    </tr>\n",
              "    <tr>\n",
              "      <th rowspan=\"2\" valign=\"top\">emails.csv</th>\n",
              "      <th>Naïve Bayes</th>\n",
              "      <th>-----</th>\n",
              "      <th>------</th>\n",
              "      <th>Normal</th>\n",
              "      <td>0.950000</td>\n",
              "    </tr>\n",
              "    <tr>\n",
              "      <th>K-NN</th>\n",
              "      <th>10</th>\n",
              "      <th>Distancia</th>\n",
              "      <th>------</th>\n",
              "      <td>0.865195</td>\n",
              "    </tr>\n",
              "  </tbody>\n",
              "</table>\n",
              "</div>"
            ],
            "text/plain": [
              "                                                        Accuracy\n",
              "Dataset    Clasificador Vecinos Pesos     Distribución          \n",
              "iris.csv   Naïve Bayes  -----   -----     Normal        1.000000\n",
              "           K-NN         10      Distancia --------      0.942857\n",
              "emails.csv Naïve Bayes  -----   ------    Normal        0.950000\n",
              "           K-NN         10      Distancia ------        0.865195"
            ]
          },
          "execution_count": 30,
          "metadata": {},
          "output_type": "execute_result"
        }
      ],
      "source": [
        "final_acc = [1.00, 0.942857, 0.95, 0.865195]\n",
        "final_report = [\n",
        "    [\n",
        "        'iris.csv', 'iris.csv', 'emails.csv', 'emails.csv'\n",
        "    ],\n",
        "    [\n",
        "        'Naïve Bayes', 'K-NN', 'Naïve Bayes', 'K-NN'\n",
        "    ],\n",
        "    [\n",
        "        '-----', '10', '-----', '10'\n",
        "    ],\n",
        "    [\n",
        "        '-----', 'Distancia', '------', 'Distancia'\n",
        "    ],\n",
        "    [\n",
        "        'Normal', '--------', 'Normal', '------'\n",
        "    ],\n",
        "]\n",
        "\n",
        "idx = pd.MultiIndex.from_arrays(final_report, names = ('Dataset', 'Clasificador', 'Vecinos', 'Pesos', 'Distribución'))\n",
        "freport = pd.DataFrame({'Accuracy': final_acc}, index=idx)\n",
        "freport"
      ]
    }
  ],
  "metadata": {
    "colab": {
      "provenance": []
    },
    "kernelspec": {
      "display_name": "Python 3",
      "name": "python3"
    },
    "language_info": {
      "codemirror_mode": {
        "name": "ipython",
        "version": 3
      },
      "file_extension": ".py",
      "mimetype": "text/x-python",
      "name": "python",
      "nbconvert_exporter": "python",
      "pygments_lexer": "ipython3",
      "version": "3.10.12"
    }
  },
  "nbformat": 4,
  "nbformat_minor": 0
}
