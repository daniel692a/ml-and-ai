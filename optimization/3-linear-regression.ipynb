{
 "cells": [
  {
   "cell_type": "markdown",
   "metadata": {},
   "source": [
    "# Práctica 3\n",
    "## Regresión lineal con BGD Y SGD\n",
    "\n",
    "> Machine Learning and Artificial Intelligence - PhD Consuelo Varinia García Mendoza\n",
    "\n",
    "> Daniel Armas Ramírez"
   ]
  },
  {
   "cell_type": "code",
   "execution_count": 1,
   "metadata": {},
   "outputs": [],
   "source": [
    "import numpy as np\n",
    "import pandas as pd\n",
    "import matplotlib.pyplot as plt\n",
    "from sklearn.model_selection import train_test_split"
   ]
  },
  {
   "cell_type": "markdown",
   "metadata": {},
   "source": [
    "### Regresiión lineal BGD monovariable"
   ]
  },
  {
   "cell_type": "code",
   "execution_count": 11,
   "metadata": {},
   "outputs": [
    {
     "data": {
      "text/html": [
       "<div>\n",
       "<style scoped>\n",
       "    .dataframe tbody tr th:only-of-type {\n",
       "        vertical-align: middle;\n",
       "    }\n",
       "\n",
       "    .dataframe tbody tr th {\n",
       "        vertical-align: top;\n",
       "    }\n",
       "\n",
       "    .dataframe thead th {\n",
       "        text-align: right;\n",
       "    }\n",
       "</style>\n",
       "<table border=\"1\" class=\"dataframe\">\n",
       "  <thead>\n",
       "    <tr style=\"text-align: right;\">\n",
       "      <th></th>\n",
       "      <th>Terreno (m2)</th>\n",
       "      <th>Precio (MDP)</th>\n",
       "    </tr>\n",
       "  </thead>\n",
       "  <tbody>\n",
       "    <tr>\n",
       "      <th>0</th>\n",
       "      <td>440.0</td>\n",
       "      <td>1.01</td>\n",
       "    </tr>\n",
       "    <tr>\n",
       "      <th>1</th>\n",
       "      <td>616.0</td>\n",
       "      <td>1.42</td>\n",
       "    </tr>\n",
       "    <tr>\n",
       "      <th>2</th>\n",
       "      <td>381.0</td>\n",
       "      <td>0.88</td>\n",
       "    </tr>\n",
       "    <tr>\n",
       "      <th>3</th>\n",
       "      <td>963.0</td>\n",
       "      <td>2.21</td>\n",
       "    </tr>\n",
       "    <tr>\n",
       "      <th>4</th>\n",
       "      <td>431.0</td>\n",
       "      <td>0.99</td>\n",
       "    </tr>\n",
       "  </tbody>\n",
       "</table>\n",
       "</div>"
      ],
      "text/plain": [
       "   Terreno (m2)  Precio (MDP)\n",
       "0         440.0          1.01\n",
       "1         616.0          1.42\n",
       "2         381.0          0.88\n",
       "3         963.0          2.21\n",
       "4         431.0          0.99"
      ]
     },
     "execution_count": 11,
     "metadata": {},
     "output_type": "execute_result"
    }
   ],
   "source": [
    "df = pd.read_csv('casas.csv')\n",
    "df.head()"
   ]
  },
  {
   "cell_type": "code",
   "execution_count": 22,
   "metadata": {},
   "outputs": [],
   "source": [
    "X = df['Terreno (m2)']\n",
    "y = df['Precio (MDP)']\n",
    "X_train, X_test, y_train, y_test = train_test_split(X, y, random_state=0, train_size = 0.7, test_size = 0.3, shuffle=True)"
   ]
  },
  {
   "cell_type": "markdown",
   "metadata": {},
   "source": [
    "### BGD Monovariable"
   ]
  },
  {
   "cell_type": "code",
   "execution_count": 25,
   "metadata": {},
   "outputs": [],
   "source": [
    "from typing import List\n",
    "\n",
    "class BGD:\n",
    "    def __init__(self, x: List[List[int]], y: List[int], w: List[float], alpha: float)->None:\n",
    "        self.x = x\n",
    "        self.y = y\n",
    "        self.w = w\n",
    "        self.alpha = alpha\n",
    "\n",
    "    def BGD(self)->None:\n",
    "        n = len(self.w)\n",
    "        m = len(self.y)\n",
    "\n",
    "        for i in range(n):\n",
    "\n",
    "            sum_vec = []\n",
    "            temp_array = []\n",
    "\n",
    "            for j in range(m):\n",
    "                temp_array.append((self.w[i] * self.x[i][j]) - self.y[j])\n",
    "\n",
    "            for j in range(m):\n",
    "                sum_vec.append(temp_array[j] * self.x[i][j])\n",
    "\n",
    "            all_sum = sum(sum_vec)\n",
    "            self.w[i] = self.w[i] - ((2*self.alpha) * all_sum)\n",
    "\n",
    "    def predict(self, X_test):\n",
    "        self.y_pred = []\n",
    "        for xt in X_test:\n",
    "            self.y_pred.append(self.w[0]*xt)\n",
    "\n",
    "    def estimate_error(self, y_test):\n",
    "        error = 0.0\n",
    "        for i in range(len(y_test)):\n",
    "            error += abs(self.y_pred[i] - y_test[i])\n",
    "        return error\n",
    "\n",
    "    def iteration(self, steps: int, X_test, y_test)->None:\n",
    "        self.lines = []\n",
    "        self.errors = []\n",
    "\n",
    "        for i in range(steps):\n",
    "            self.BGD()\n",
    "\n",
    "            y_predic = []\n",
    "            for xt in X_test:\n",
    "                y_predic.append(self.w[0] * xt)\n",
    "\n",
    "            self.lines.append(y_predic)\n",
    "\n",
    "            error = 0.0\n",
    "            for i in range(len(y_test)):\n",
    "                error += abs(y_predic[i] - y_test[i])\n",
    "\n",
    "            self.errors.append(error)\n",
    "\n",
    "            print(f'Iteración {i+1}')\n",
    "            print(f'Pesos: {self.w}')\n",
    "            print(f'Predicciones: {y_predic}')\n",
    "            print(f'Error de Estimación: {error}\\n')\n",
    "\n",
    "        fig, axs = plt.subplots(1, 2, figsize=(9, 6))\n",
    "        colors = ['blue', 'red', 'green', 'purple']\n",
    "        for i in range(len(self.lines)):\n",
    "            axs[0].plot(X_test, self.lines[i], color=colors[i])\n",
    "        \n",
    "        axs[0].set_title('Regresión Lineal')\n",
    "        axs[0].set_xlabel('Terreno (m2)')\n",
    "        axs[0].set_ylabel('Precio (MDP)')\n",
    "\n",
    "        it = [ i for i in range(len(self.errors)) ]\n",
    "        axs[1].scatter(it, self.errors, color='red')\n",
    "        axs[1].set_title('Error de estimación')\n",
    "        axs[1].set_xlabel('Iteración')\n",
    "        axs[1].set_ylabel('|y_pred - y_test|')\n",
    "        plt.tight_layout()\n",
    "        plt.show()\n"
   ]
  },
  {
   "cell_type": "code",
   "execution_count": 26,
   "metadata": {},
   "outputs": [
    {
     "name": "stdout",
     "output_type": "stream",
     "text": [
      "Iteración 3\n",
      "Pesos: [0.0008143827999999999]\n",
      "Predicciones: [0.3102798468, 0.5765830223999999, 0.35099898679999997]\n",
      "Error de Estimación: 2.262138144\n",
      "\n",
      "Iteración 3\n",
      "Pesos: [0.00134054665030748]\n",
      "Predicciones: [0.5107482737671498, 0.9491070284176958, 0.5777756062825239]\n",
      "Error de Estimación: 1.4623690915326304\n",
      "\n",
      "Iteración 3\n",
      "Pesos: [0.0016804953788051745]\n",
      "Predicciones: [0.6402687393247715, 1.1897907281940636, 0.7242935082650301]\n",
      "Error de Estimación: 0.9456470242161347\n",
      "\n",
      "Iteración 3\n",
      "Pesos: [0.0019001325468463942]\n",
      "Predicciones: [0.7239505003484762, 1.3452938431672472, 0.8189571276907959]\n",
      "Error de Estimación: 0.6117985287934806\n",
      "\n"
     ]
    },
    {
     "data": {
      "image/png": "[encoded data removed]",
      "text/plain": [
       "<Figure size 900x600 with 2 Axes>"
      ]
     },
     "metadata": {},
     "output_type": "display_data"
    }
   ],
   "source": [
    "x_ = [X_train.to_list()]\n",
    "y_ = y_train.to_list()\n",
    "\n",
    "w = [ 0 ]\n",
    "a = 0.00000007\n",
    "bgd = BGD(x_, y_, w, a)\n",
    "bgd.iteration(4, X_test.to_list(), y_test.to_list())"
   ]
  },
  {
   "cell_type": "markdown",
   "metadata": {},
   "source": [
    "### BGD Multivariable"
   ]
  },
  {
   "cell_type": "code",
   "execution_count": 28,
   "metadata": {},
   "outputs": [
    {
     "data": {
      "text/html": [
       "<div>\n",
       "<style scoped>\n",
       "    .dataframe tbody tr th:only-of-type {\n",
       "        vertical-align: middle;\n",
       "    }\n",
       "\n",
       "    .dataframe tbody tr th {\n",
       "        vertical-align: top;\n",
       "    }\n",
       "\n",
       "    .dataframe thead th {\n",
       "        text-align: right;\n",
       "    }\n",
       "</style>\n",
       "<table border=\"1\" class=\"dataframe\">\n",
       "  <thead>\n",
       "    <tr style=\"text-align: right;\">\n",
       "      <th></th>\n",
       "      <th>x1</th>\n",
       "      <th>x2</th>\n",
       "      <th>x3</th>\n",
       "      <th>x4</th>\n",
       "      <th>x5</th>\n",
       "      <th>y</th>\n",
       "    </tr>\n",
       "  </thead>\n",
       "  <tbody>\n",
       "    <tr>\n",
       "      <th>0</th>\n",
       "      <td>1.0</td>\n",
       "      <td>0.4</td>\n",
       "      <td>-12.0</td>\n",
       "      <td>12.0</td>\n",
       "      <td>10.2</td>\n",
       "      <td>11.6</td>\n",
       "    </tr>\n",
       "    <tr>\n",
       "      <th>1</th>\n",
       "      <td>1.0</td>\n",
       "      <td>0.6</td>\n",
       "      <td>-15.0</td>\n",
       "      <td>16.0</td>\n",
       "      <td>11.9</td>\n",
       "      <td>14.5</td>\n",
       "    </tr>\n",
       "    <tr>\n",
       "      <th>2</th>\n",
       "      <td>1.0</td>\n",
       "      <td>0.8</td>\n",
       "      <td>-18.0</td>\n",
       "      <td>20.0</td>\n",
       "      <td>13.6</td>\n",
       "      <td>17.4</td>\n",
       "    </tr>\n",
       "    <tr>\n",
       "      <th>3</th>\n",
       "      <td>1.0</td>\n",
       "      <td>1.0</td>\n",
       "      <td>-21.0</td>\n",
       "      <td>24.0</td>\n",
       "      <td>15.3</td>\n",
       "      <td>20.3</td>\n",
       "    </tr>\n",
       "    <tr>\n",
       "      <th>4</th>\n",
       "      <td>1.0</td>\n",
       "      <td>1.2</td>\n",
       "      <td>-24.0</td>\n",
       "      <td>28.0</td>\n",
       "      <td>17.0</td>\n",
       "      <td>23.2</td>\n",
       "    </tr>\n",
       "  </tbody>\n",
       "</table>\n",
       "</div>"
      ],
      "text/plain": [
       "    x1   x2    x3    x4    x5     y\n",
       "0  1.0  0.4 -12.0  12.0  10.2  11.6\n",
       "1  1.0  0.6 -15.0  16.0  11.9  14.5\n",
       "2  1.0  0.8 -18.0  20.0  13.6  17.4\n",
       "3  1.0  1.0 -21.0  24.0  15.3  20.3\n",
       "4  1.0  1.2 -24.0  28.0  17.0  23.2"
      ]
     },
     "execution_count": 28,
     "metadata": {},
     "output_type": "execute_result"
    }
   ],
   "source": [
    "df2 = pd.read_csv('Dataset_multivariable.csv')\n",
    "df2.head()"
   ]
  },
  {
   "cell_type": "code",
   "execution_count": 29,
   "metadata": {},
   "outputs": [],
   "source": [
    "X = df2[['x1', 'x2', 'x3', 'x4', 'x5']]\n",
    "y = df2['y']\n",
    "X_train, X_test, y_train, y_test = train_test_split(X, y, random_state=0, train_size = 0.7, test_size = 0.3, shuffle=True)"
   ]
  },
  {
   "cell_type": "code",
   "execution_count": 27,
   "metadata": {},
   "outputs": [],
   "source": [
    "class LinearRegression:\n",
    "    def __init__(self, learning_rate=0.01, num_iterations=1000):\n",
    "        self.learning_rate = learning_rate\n",
    "        self.num_iterations = num_iterations\n",
    "        self.weights = None\n",
    "        self.loss_history = []\n",
    "\n",
    "    def fit(self, X, y):\n",
    "        num_samples, num_features = X.shape\n",
    "        self.weights = np.zeros(num_features + 1)\n",
    "        X = np.concatenate([np.ones((num_samples, 1)), X], axis=1)\n",
    "\n",
    "        for _ in range(self.num_iterations):\n",
    "            y_pred = np.dot(X, self.weights)\n",
    "            error = y_pred - y\n",
    "            loss = np.mean(error ** 2)\n",
    "            self.loss_history.append(loss)\n",
    "            gradient = np.dot(X.T, error) / num_samples\n",
    "            self.weights -= self.learning_rate * gradient\n",
    "            print(self.weights)\n",
    "    def predict(self, X):\n",
    "        X = np.concatenate([np.ones((X.shape[0], 1)), X], axis=1)\n",
    "        return np.dot(X, self.weights)"
   ]
  },
  {
   "cell_type": "code",
   "execution_count": 30,
   "metadata": {},
   "outputs": [
    {
     "name": "stdout",
     "output_type": "stream",
     "text": [
      "[ 0.00014666  0.00014666  0.00022023 -0.00418346  0.00499131  0.00286926]\n",
      "[ 0.00029148  0.00029148  0.0004377  -0.00831443  0.00991998  0.00570254]\n",
      "[ 0.00043449  0.00043449  0.00065244 -0.01239357  0.01478677  0.0085003 ]\n",
      "[ 0.00057572  0.00057572  0.00086448 -0.01642152  0.01959248  0.01126298]\n"
     ]
    },
    {
     "data": {
      "image/png": "[encoded data removed]",
      "text/plain": [
       "<Figure size 640x480 with 1 Axes>"
      ]
     },
     "metadata": {},
     "output_type": "display_data"
    }
   ],
   "source": [
    "model = LinearRegression(learning_rate=0.000006, num_iterations=4)\n",
    "model.fit(X_train, y_train)\n",
    "predictions = model.predict(X_test)\n",
    "plt.scatter(range(len(model.loss_history)), model.loss_history)\n",
    "plt.xlabel('Iteraciones')\n",
    "plt.ylabel('Error')\n",
    "plt.title('Error durante el entrenamiento')\n",
    "plt.show()"
   ]
  },
  {
   "cell_type": "code",
   "execution_count": 73,
   "metadata": {},
   "outputs": [],
   "source": [
    "from typing import List\n",
    "\n",
    "class BGD:\n",
    "    def __init__(self, x: List[List[float]], y: List[float], w: List[float], alpha: float)->None:\n",
    "        self.x = x\n",
    "        self.y = y\n",
    "        self.w = w\n",
    "        self.alpha = alpha\n",
    "\n",
    "    def BGD(self)->None:\n",
    "        n = len(self.w)\n",
    "        m = len(self.y)\n",
    "\n",
    "        for i in range(n):\n",
    "\n",
    "            sum_vec = []\n",
    "            temp_array = []\n",
    "\n",
    "            for j in range(m):\n",
    "                temp_array.append((self.w[i] * self.x[j][i]) - self.y[j])\n",
    "\n",
    "            for j in range(m):\n",
    "                sum_vec.append(temp_array[j] * self.x[j][i])\n",
    "\n",
    "            all_sum = sum(sum_vec)\n",
    "            self.w[i] = self.w[i] - ((2*self.alpha) * all_sum)\n",
    "\n",
    "    def iteration(self, steps: int, X_test, y_test)->None:\n",
    "        self.errors = []\n",
    "        for i in range(steps):\n",
    "            self.BGD()\n",
    "\n",
    "            y_predic = []\n",
    "            for j in range(len(X_test)):\n",
    "                predic = 0\n",
    "                for i in range(len(X_test[0])):\n",
    "                    predic += w[i] * X_test[j][i]\n",
    "                y_predic.append(predic)\n",
    "\n",
    "            error = 0.0\n",
    "            for i in range(len(y_test)):\n",
    "                error += abs(y_predic[i] - y_test[i])\n",
    "\n",
    "            self.errors.append(error)\n",
    "\n",
    "            print(f'Iteración {i+1}')\n",
    "            print(f'Pesos: {self.w}')\n",
    "            print('y_predic')\n",
    "            print(y_predic)\n",
    "            print()\n",
    "            print('Error de estimación')\n",
    "            print(error)\n",
    "            print()\n",
    "\n",
    "        plt.scatter([1, 2, 3, 4], self.errors)\n",
    "        plt.xlabel('Iteraciones')\n",
    "        plt.ylabel('Error')\n",
    "        plt.title('Error durante el entrenamiento')\n",
    "        plt.show()\n"
   ]
  },
  {
   "cell_type": "code",
   "execution_count": 74,
   "metadata": {},
   "outputs": [
    {
     "name": "stdout",
     "output_type": "stream",
     "text": [
      "Iteración 3\n",
      "Pesos: [0.0020532, 0.0030832800000000007, -0.0585684, 0.0698784, 0.040169640000000006]\n",
      "y_predic\n",
      "[3.002626128, 6.147369192, 4.050873816]\n",
      "\n",
      "Error de estimación\n",
      "62.199130864\n",
      "\n",
      "Iteración 3\n",
      "Pesos: [0.004106227531199999, 0.006166037569036801, -0.1135882577808, 0.13371930624, 0.07918998642996]\n",
      "y_predic\n",
      "[5.804997637888285, 11.873986734371123, 7.827994003382564]\n",
      "\n",
      "Error de estimación\n",
      "49.89302162435803\n",
      "\n",
      "Iteración 3\n",
      "Pesos: [0.006159082608087379, 0.009248272795631104, -0.1652745724183769, 0.19204435818086402, 0.11709392172821242]\n",
      "y_predic\n",
      "[8.421864503496346, 17.21132733235039, 11.351685446447695]\n",
      "\n",
      "Error de estimación\n",
      "38.415122717705565\n",
      "\n",
      "Iteración 3\n",
      "Pesos: [0.0082117652451483, 0.012329985768288613, -0.2138293166246923, 0.24533012563403736, 0.15391338753364653]\n",
      "y_predic\n",
      "[10.86682803624258, 22.18839128646908, 14.640682452984747]\n",
      "\n",
      "Error de estimación\n",
      "27.704098224303586\n",
      "\n"
     ]
    },
    {
     "data": {
      "image/png": "[encoded data removed]",
      "text/plain": [
       "<Figure size 640x480 with 1 Axes>"
      ]
     },
     "metadata": {},
     "output_type": "display_data"
    }
   ],
   "source": [
    "x_ = X_train.values.tolist()\n",
    "y_ = y_train.tolist()\n",
    "\n",
    "w = [ 0, 0, 0, 0, 0 ]\n",
    "a = 0.000006\n",
    "bgd = BGD(x_, y_, w, a)\n",
    "bgd.iteration(4, X_test.values.tolist(), y_test.values.tolist())"
   ]
  }
 ],
 "metadata": {
  "kernelspec": {
   "display_name": "env",
   "language": "python",
   "name": "python3"
  },
  "language_info": {
   "codemirror_mode": {
    "name": "ipython",
    "version": 3
   },
   "file_extension": ".py",
   "mimetype": "text/x-python",
   "name": "python",
   "nbconvert_exporter": "python",
   "pygments_lexer": "ipython3",
   "version": "3.10.12"
  }
 },
 "nbformat": 4,
 "nbformat_minor": 2
}
